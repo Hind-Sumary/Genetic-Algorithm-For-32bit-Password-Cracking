{
  "nbformat": 4,
  "nbformat_minor": 0,
  "metadata": {
    "colab": {
      "provenance": []
    },
    "kernelspec": {
      "name": "python3",
      "display_name": "Python 3"
    },
    "language_info": {
      "name": "python"
    }
  },
  "cells": [
    {
      "cell_type": "markdown",
      "source": [
        "## <font color = \"White\"> ***Genetic Algorithm*** </font>\n",
        "\n",
        "<font color = \"White\"> ***This genetic algorithm is designed to solve a randomly generated passcode, using concepts like selection, crossover, and mutation to improve the population of potential solutions across many generations.*** </font>"
      ],
      "metadata": {
        "id": "OajWLbTug2AH"
      }
    },
    {
      "cell_type": "code",
      "execution_count": null,
      "metadata": {
        "id": "4WJt80R0D7kM"
      },
      "outputs": [],
      "source": [
        "# import the libraries we need\n",
        "import random\n",
        "import matplotlib.pyplot as plt"
      ]
    },
    {
      "cell_type": "markdown",
      "source": [
        "### <font color = \"Red\"> ***Fixed parameters***\n",
        "\n",
        "###### ***main parameters we will use throughout the code for the genetic algorithm.***\n",
        "\n",
        "#### <font color = \"Red\"> - </font> ***`LENGTH_PASS`: the length of the passcode in binary***\n",
        "#### <font color = \"Red\"> - </font> ***`POPULATION`: Number of chromosomes in the population***\n",
        "#### <font color = \"Red\"> - </font> ***`MUTATION_RATE`: the length of the passcode in binary***\n",
        "#### <font color = \"Red\"> - </font> ***`Generations`: the length of the passcode in binary***\n"
      ],
      "metadata": {
        "id": "AyhoTXTunCFc"
      }
    },
    {
      "cell_type": "code",
      "source": [
        "LENGTH_PASS = 32\n",
        "POPULATION = 100\n",
        "MUTATION_RATE = 0.01\n",
        "GENERATIONS = 1000"
      ],
      "metadata": {
        "id": "uO1-3SbtERzM"
      },
      "execution_count": null,
      "outputs": []
    },
    {
      "cell_type": "markdown",
      "source": [
        "#### <font color= \"red\">-</font> ***`Generate 32-bit binary passcode`***\n"
      ],
      "metadata": {
        "id": "BaBYgXT8fvXY"
      }
    },
    {
      "cell_type": "code",
      "source": [
        "def generate_passcode():\n",
        "    return [random.randint(0, 1) for _ in range(LENGTH_PASS)]"
      ],
      "metadata": {
        "id": "I_wqd0uMFIRv"
      },
      "execution_count": null,
      "outputs": []
    },
    {
      "cell_type": "markdown",
      "source": [
        "#### <font color= \"red\">-</font> ***`Initialize the population`***\n",
        "<font color = \"black\"> ***create the initial population of random chromosome***"
      ],
      "metadata": {
        "id": "OxHlAq5OrdlG"
      }
    },
    {
      "cell_type": "code",
      "source": [
        "def initialize_population():\n",
        "    return [[random.randint(0, 1) for _ in range(LENGTH_PASS)] for _ in range(POPULATION)]"
      ],
      "metadata": {
        "id": "0PVIEbtfFc6J"
      },
      "execution_count": null,
      "outputs": []
    },
    {
      "cell_type": "markdown",
      "source": [
        "#### <font color= \"red\">-</font> ***`Fitness Evaluation`***\n",
        "<font color = \"black\">***Compute the fitness of a chromosome***"
      ],
      "metadata": {
        "id": "MGnYKNZ7rrp2"
      }
    },
    {
      "cell_type": "code",
      "source": [
        "def calculate_fitness(chromosome, passcode):\n",
        "    return sum(1 for gene, target in zip(chromosome, passcode) if gene == target)"
      ],
      "metadata": {
        "id": "OOOQ4Fg5FpiI"
      },
      "execution_count": null,
      "outputs": []
    },
    {
      "cell_type": "markdown",
      "source": [
        "#### <font color= \"red\">-</font> ***`Selection`***\n",
        "<font color = \"black\">***select the parents using a roulette wheel***"
      ],
      "metadata": {
        "id": "RtxwxH-ir-Pp"
      }
    },
    {
      "cell_type": "code",
      "source": [
        "def select_parents(population, fitness_scores):\n",
        "    total_fitness = sum(fitness_scores)\n",
        "    selection_probs = [score / total_fitness for score in fitness_scores]\n",
        "    return random.choices(population, weights=selection_probs, k=2)"
      ],
      "metadata": {
        "id": "3IU-N5piF6P6"
      },
      "execution_count": null,
      "outputs": []
    },
    {
      "cell_type": "markdown",
      "source": [
        "#### <font color= \"red\">-</font> ***`Cross-Over`***\n",
        "<font color = \"black\">***Combine genetic material from two parents***"
      ],
      "metadata": {
        "id": "UmHAlApIsJAI"
      }
    },
    {
      "cell_type": "code",
      "source": [
        "def crossover(parent1, parent2):\n",
        "    point = random.randint(1, LENGTH_PASS - 1)\n",
        "    child1 = parent1[:point] + parent2[point:]\n",
        "    child2 = parent2[:point] + parent1[point:]\n",
        "    return child1, child2"
      ],
      "metadata": {
        "id": "EZKgh7T1F89W"
      },
      "execution_count": null,
      "outputs": []
    },
    {
      "cell_type": "markdown",
      "source": [
        "#### <font color= \"red\">-</font> ***`Mutation`***\n",
        "<font color = \"black\">***flips bits in a chromosome randomly***"
      ],
      "metadata": {
        "id": "YkS_y8bnv03h"
      }
    },
    {
      "cell_type": "code",
      "source": [
        "def mutate(chromosome):\n",
        "    return [gene if random.random() > MUTATION_RATE else 1 - gene for gene in chromosome]"
      ],
      "metadata": {
        "id": "oB7IHc6wGC3_"
      },
      "execution_count": null,
      "outputs": []
    },
    {
      "cell_type": "markdown",
      "source": [
        "#### <font color= \"red\">-</font> ***`Genetic algorithm function`***\n",
        "<font color = \"black\">***this part of the code collects all the previous defined functions in order, to see how the code generates a passcode and tries to crack it***"
      ],
      "metadata": {
        "id": "xSFhVPQRwC4t"
      }
    },
    {
      "cell_type": "code",
      "source": [
        "def genetic_algorithm():\n",
        "\n",
        "    # call the Generate target passcode method\n",
        "    passcode = generate_passcode()\n",
        "    print(\"Generated Passcode:\", ''.join(map(str, passcode)))\n",
        "\n",
        "    # call the Initialize population method\n",
        "    population = initialize_population()\n",
        "    fitness_history = []\n",
        "\n",
        "    for generation in range(GENERATIONS):\n",
        "        # Calculate fitness for each chromosome by calling the fitness function\n",
        "        fitness_scores = [calculate_fitness(chrom, passcode) for chrom in population]\n",
        "        fitness_history.append(max(fitness_scores))\n",
        "\n",
        "        # Check if the passcode was found\n",
        "        if max(fitness_scores) == LENGTH_PASS:\n",
        "            print(f\"Passcode cracked in generation {generation + 1}\")\n",
        "            print(\"Best Chromosome:\", ''.join(map(str, population[fitness_scores.index(max(fitness_scores))])))\n",
        "            break\n",
        "\n",
        "        # Create new population\n",
        "        new_population = []\n",
        "        for _ in range(POPULATION // 2):\n",
        "            parent1, parent2 = select_parents(population, fitness_scores)\n",
        "            child1, child2 = crossover(parent1, parent2)\n",
        "            new_population.extend([mutate(child1), mutate(child2)])\n",
        "\n",
        "        population = new_population\n",
        "\n",
        "    # if the passcode was not found print that the operation failed\n",
        "    else:\n",
        "        print(\"Failed to crack passcode within the maximum generations.\")\n",
        "\n",
        "\n",
        "  # Plot fitness over generations\n",
        "    plt.plot(range(len(fitness_history)), fitness_history)\n",
        "    plt.xlabel('Generation')\n",
        "    plt.ylabel('Best Fitness')\n",
        "    plt.title('Convergence rate')\n",
        "    plt.show()\n",
        "\n",
        "# Run the Genetic Algorithm\n",
        "genetic_algorithm()"
      ],
      "metadata": {
        "colab": {
          "base_uri": "https://localhost:8080/",
          "height": 524
        },
        "id": "kzZcFDXXGZrK",
        "outputId": "6fdac5cf-d631-49bf-ee03-7937b6f5cf37"
      },
      "execution_count": null,
      "outputs": [
        {
          "output_type": "stream",
          "name": "stdout",
          "text": [
            "Generated Passcode: 01010110111100101110100010111100\n",
            "Passcode cracked in generation 90\n",
            "Best Chromosome: 01010110111100101110100010111100\n"
          ]
        },
        {
          "output_type": "display_data",
          "data": {
            "text/plain": [
              "<Figure size 640x480 with 1 Axes>"
            ],
            "image/png": "[encoded data removed]"
          },
          "metadata": {}
        }
      ]
    }
  ]
}
